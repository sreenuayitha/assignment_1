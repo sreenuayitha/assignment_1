{
 "cells": [
  {
   "cell_type": "markdown",
   "id": "14c0eb5e",
   "metadata": {},
   "source": [
    "1. In the below elements which of them are values or an expression? eg:- values can be\n",
    "integer or string and expressions will be mathematical operators."
   ]
  },
  {
   "cell_type": "raw",
   "id": "2dc3545c",
   "metadata": {},
   "source": [
    "*      -mathematical operation\n",
    "'hello'-string\n",
    "-87.8   -float value\n",
    "-       -mathematical operation\n",
    "/       -mathematical operation\n",
    "+       -mathematical operation\n",
    "6       -integer value\n",
    "\n",
    "(*,-,/,+)--this all are mathematical expressions\n",
    "('hello',87.8,6)  this all are values like integers,float and strings"
   ]
  },
  {
   "cell_type": "markdown",
   "id": "e6da83fc",
   "metadata": {},
   "source": [
    "2. What is the difference between string and variable?"
   ]
  },
  {
   "cell_type": "raw",
   "id": "2f5df819",
   "metadata": {},
   "source": [
    "A Variable is a store of information, and a String is a type of information you would store in a Variable. A String is usually words, enclosed with \"\"\n",
    "Eg\n",
    "String x =\"Welcome to ineuron\"\n",
    "X is the Variable, and we declared it as a String, use the single = to assign the text to it."
   ]
  },
  {
   "cell_type": "markdown",
   "id": "89f06654",
   "metadata": {},
   "source": [
    "3. Describe three different data types."
   ]
  },
  {
   "cell_type": "raw",
   "id": "7d0c2c23",
   "metadata": {},
   "source": [
    "Data types are the classification or categorization of data items. It represents the kind of value that tells what operations can be performed on a particular data. Since everything is an object in Python programming, data types are actually classes and variables are instance (object) of these classes.\n",
    "types of data types is:\n",
    "1.numerical\n",
    "2.Sequences\n",
    "3.boolean\n",
    "\n",
    "*numerical data type again classfiy into three types they are:\n",
    "a.integers -This value is represented by int class. It contains positive or negative whole numbers (without fraction or decimal). In Python there is no limit to how long an integer value can be.\n",
    "b.float -This value is represented by float class. It is a real number with floating point representation. It is specified by a decimal point. Optionally, the character e or E followed by a positive or negative integer may be appended to specify scientific notation.\n",
    "c.complex -Complex number is represented by complex class. It is specified as (real part) + (imaginary part)j. For example – 2+3j\n",
    "\n",
    "*sequence data type\n",
    "String-In Python, Strings are arrays of bytes representing Unicode characters. A string is a collection of one or more characters put in a single quote, double-quote or triple quote. In python there is no character data type, a character is a string of length one. It is represented by str class.\n",
    "\n",
    "*boolean data  type\n",
    "Data type with one of the two built-in values, True or False. Boolean objects that are equal to True are truthy (true), and those equal to False are falsy (false). But non-Boolean objects can be evaluated in Boolean context as well and determined to be true or false. It is denoted by the class bool.\n",
    "\n",
    "note: we can find the data types with the help of built in function\n",
    "*type()\n",
    "\n",
    "\n"
   ]
  },
  {
   "cell_type": "markdown",
   "id": "b6c362d7",
   "metadata": {},
   "source": [
    "4. What is an expression made up of? What do all expressions do?"
   ]
  },
  {
   "cell_type": "raw",
   "id": "5675c609",
   "metadata": {},
   "source": [
    "An expression is a combination of operators and operands that is interpreted to produce some other value. In any programming language, an expression is evaluated as per the precedence of its operators. So that if there is more than one operator in an expression, their precedence decides which operation will be performed first. We have many different types of expressions in Python. \n",
    "        they have different types of expression that is:\n",
    "        1.Constant Expressions: These are the expressions that have constant values only.\n",
    "          eg:x=20+2.5\n",
    "          print(x)\n",
    "              22.5\n",
    "         \n",
    "        2.Arithmetic Expressions: An arithmetic expression is a combination of numeric values, operators, and sometimes parenthesis. The result of this type of expression is also a numeric value. The operators used in these expressions are arithmetic operators like addition, subtraction, etc.\n",
    "        eg:\n",
    "        '+' is useing for addition\n",
    "        '-' is useing for subtraction.\n",
    "        '*' is usining for multiplications\n",
    "        '/' is using for division.\n",
    "        \n",
    "        3.Relational Expressions: In these types of expressions, arithmetic expressions are written on both sides of relational operator (> , < , >= , <=). Those arithmetic expressions are evaluated first, and then compared as per relational operator and produce a boolean output in the end. These expressions are also called Boolean expressions.\n",
    "        eg:\n",
    "            a=10\n",
    "            b=15\n",
    "            c=5\n",
    "            d=2\n",
    "            a<b=c<d\n",
    "            \n",
    "         4. Logical Expressions: These are kinds of expressions that result in either True or False. It basically specifies one or more conditions. For example, (10 == 9) is a condition if 10 is equal to 9. As we know it is not correct, so it will return False. Studying logical expressions, we also come across some logical operators which can be seen in logical expressions most often."
   ]
  },
  {
   "cell_type": "markdown",
   "id": "08842026",
   "metadata": {},
   "source": [
    "5. This assignment statements, like spam = 10. What is the difference between an\n",
    "expression and a statement?"
   ]
  },
  {
   "cell_type": "raw",
   "id": "91d86fb1",
   "metadata": {},
   "source": [
    "An expression evaluates to a single value. A statement does not.\n",
    "    A statement is a complete line of code that performs some action, while an expression is any section of the code that evaluates to a value.\n",
    "    example of statements:\n",
    "            if conditions:\n",
    "            while.\n",
    "            for.\n",
    "            else.\n",
    "            elif....etc\n",
    "     example of expressions:\n",
    "             '+','-','*','/'.\n",
    "    "
   ]
  },
  {
   "cell_type": "markdown",
   "id": "fb6759ca",
   "metadata": {},
   "source": [
    "6. After running the following code, what does the variable bacon contain?\n",
    "bacon = 22\n",
    "bacon + 1"
   ]
  },
  {
   "cell_type": "code",
   "execution_count": 3,
   "id": "95b6afd8",
   "metadata": {},
   "outputs": [
    {
     "name": "stdout",
     "output_type": "stream",
     "text": [
      "22\n"
     ]
    }
   ],
   "source": [
    "bacon=22\n",
    "bacon+1\n",
    "print(bacon)"
   ]
  },
  {
   "cell_type": "raw",
   "id": "7dc4e382",
   "metadata": {},
   "source": [
    "bacon is variable. the variable stores some value like 22 its an expression so only printes 22 value which assinied in the variable only.bacon+1 dose not work its not a statement."
   ]
  },
  {
   "cell_type": "markdown",
   "id": "27912276",
   "metadata": {},
   "source": [
    "7. What should the values of the following two terms be?\n"
   ]
  },
  {
   "cell_type": "code",
   "execution_count": 4,
   "id": "9c5c8dd5",
   "metadata": {},
   "outputs": [
    {
     "data": {
      "text/plain": [
       "'spamspamspam'"
      ]
     },
     "execution_count": 4,
     "metadata": {},
     "output_type": "execute_result"
    }
   ],
   "source": [
    "\"spam\"+\"spamspam\"   # spam is data which we useing expression so its output is like this\n"
   ]
  },
  {
   "cell_type": "code",
   "execution_count": 5,
   "id": "9028051f",
   "metadata": {},
   "outputs": [
    {
     "data": {
      "text/plain": [
       "'spamspamspam'"
      ]
     },
     "execution_count": 5,
     "metadata": {},
     "output_type": "execute_result"
    }
   ],
   "source": [
    "\"spam\"*3     # spam is multipleing three times"
   ]
  },
  {
   "cell_type": "markdown",
   "id": "26210a9e",
   "metadata": {},
   "source": [
    "8. Why is eggs a valid variable name while 100 is invalid?"
   ]
  },
  {
   "cell_type": "code",
   "execution_count": 6,
   "id": "7d7a0500",
   "metadata": {},
   "outputs": [
    {
     "ename": "SyntaxError",
     "evalue": "cannot assign to literal (Temp/ipykernel_9660/3750889197.py, line 1)",
     "output_type": "error",
     "traceback": [
      "\u001b[1;36m  File \u001b[1;32m\"C:\\Users\\sreenu\\AppData\\Local\\Temp/ipykernel_9660/3750889197.py\"\u001b[1;36m, line \u001b[1;32m1\u001b[0m\n\u001b[1;33m    100 = 22+10\u001b[0m\n\u001b[1;37m    ^\u001b[0m\n\u001b[1;31mSyntaxError\u001b[0m\u001b[1;31m:\u001b[0m cannot assign to literal\n"
     ]
    }
   ],
   "source": [
    "100 = 22+10    #numerical values cannot assine a variables"
   ]
  },
  {
   "cell_type": "code",
   "execution_count": 8,
   "id": "55a1106f",
   "metadata": {},
   "outputs": [
    {
     "name": "stdout",
     "output_type": "stream",
     "text": [
      "102\n"
     ]
    }
   ],
   "source": [
    "eggs=100+2     #strings and '_' and with numerical can assine variables it can work\n",
    "print(eggs)"
   ]
  },
  {
   "cell_type": "code",
   "execution_count": 10,
   "id": "fbad91e9",
   "metadata": {},
   "outputs": [
    {
     "name": "stdout",
     "output_type": "stream",
     "text": [
      "200\n"
     ]
    }
   ],
   "source": [
    "eggs_1=100*2     #here we can  see both numerical and string and _ will use like variables\n",
    "print(eggs_1)"
   ]
  },
  {
   "cell_type": "markdown",
   "id": "9649711c",
   "metadata": {},
   "source": [
    "9. What three functions can be used to get the integer, floating-point number, or string\n",
    "version of a value?"
   ]
  },
  {
   "cell_type": "raw",
   "id": "45d34775",
   "metadata": {},
   "source": [
    "The int(), float(), and str() functions will evaluate to the integer, floating-point number, and string versions of the value passed to them."
   ]
  },
  {
   "cell_type": "markdown",
   "id": "f9c0e562",
   "metadata": {},
   "source": [
    "10. Why does this expression cause an error? How can you fix it?\n",
    "\n",
    "\n",
    "\"I have eaten\"+ 99 +\"burritos.\""
   ]
  },
  {
   "cell_type": "code",
   "execution_count": 12,
   "id": "92130d38",
   "metadata": {},
   "outputs": [
    {
     "ename": "TypeError",
     "evalue": "can only concatenate str (not \"int\") to str",
     "output_type": "error",
     "traceback": [
      "\u001b[1;31m---------------------------------------------------------------------------\u001b[0m",
      "\u001b[1;31mTypeError\u001b[0m                                 Traceback (most recent call last)",
      "\u001b[1;32m~\\AppData\\Local\\Temp/ipykernel_9660/361809896.py\u001b[0m in \u001b[0;36m<module>\u001b[1;34m\u001b[0m\n\u001b[1;32m----> 1\u001b[1;33m \u001b[1;34m\"I have eaten\"\u001b[0m\u001b[1;33m+\u001b[0m \u001b[1;36m99\u001b[0m \u001b[1;33m+\u001b[0m\u001b[1;34m\"burritos.\"\u001b[0m\u001b[1;33m\u001b[0m\u001b[1;33m\u001b[0m\u001b[0m\n\u001b[0m",
      "\u001b[1;31mTypeError\u001b[0m: can only concatenate str (not \"int\") to str"
     ]
    }
   ],
   "source": [
    "\"I have eaten\"+ 99 +\"burritos.\""
   ]
  },
  {
   "cell_type": "raw",
   "id": "bc0d8cde",
   "metadata": {},
   "source": [
    "this is a type error in this condition that numerical value will be convert into the string"
   ]
  },
  {
   "cell_type": "code",
   "execution_count": 16,
   "id": "3aa8f8ad",
   "metadata": {},
   "outputs": [
    {
     "data": {
      "text/plain": [
       "'I have eaten99burritos.'"
      ]
     },
     "execution_count": 16,
     "metadata": {},
     "output_type": "execute_result"
    }
   ],
   "source": [
    "\"I have eaten\" + str(99) + \"burritos.\""
   ]
  },
  {
   "cell_type": "code",
   "execution_count": null,
   "id": "bf7c3d4e",
   "metadata": {},
   "outputs": [],
   "source": []
  }
 ],
 "metadata": {
  "kernelspec": {
   "display_name": "Python 3 (ipykernel)",
   "language": "python",
   "name": "python3"
  },
  "language_info": {
   "codemirror_mode": {
    "name": "ipython",
    "version": 3
   },
   "file_extension": ".py",
   "mimetype": "text/x-python",
   "name": "python",
   "nbconvert_exporter": "python",
   "pygments_lexer": "ipython3",
   "version": "3.9.7"
  }
 },
 "nbformat": 4,
 "nbformat_minor": 5
}
